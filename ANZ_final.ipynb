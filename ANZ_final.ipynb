{
  "nbformat": 4,
  "nbformat_minor": 0,
  "metadata": {
    "colab": {
      "name": "ANZ_final.ipynb",
      "provenance": [],
      "collapsed_sections": [],
      "toc_visible": true
    },
    "kernelspec": {
      "name": "python3",
      "display_name": "Python 3"
    }
  },
  "cells": [
    {
      "cell_type": "code",
      "metadata": {
        "id": "4moN6w9OimH0"
      },
      "source": [
        "import pandas as pd\r\n",
        "import numpy as np\r\n",
        "import seaborn as sns\r\n",
        "import matplotlib.pyplot as plt\r\n",
        "from sklearn.linear_model import LinearRegression\r\n",
        "from sklearn.model_selection import train_test_split\r\n",
        "from sklearn.tree import DecisionTreeRegressor\r\n",
        "from sklearn import metrics\r\n",
        "from sklearn.ensemble import RandomForestRegressor\r\n"
      ],
      "execution_count": null,
      "outputs": []
    },
    {
      "cell_type": "code",
      "metadata": {
        "id": "DdHQM20Ui3DB"
      },
      "source": [
        "data= pd.read_excel('/content/ANZ synthesised transaction dataset.xlsx')"
      ],
      "execution_count": null,
      "outputs": []
    },
    {
      "cell_type": "code",
      "metadata": {
        "colab": {
          "base_uri": "https://localhost:8080/",
          "height": 365
        },
        "id": "PTgiKbAfi-e0",
        "outputId": "a3830759-f818-4c6b-eb04-595a2d3063dd"
      },
      "source": [
        "data.sample(5)"
      ],
      "execution_count": null,
      "outputs": [
        {
          "output_type": "execute_result",
          "data": {
            "text/html": [
              "<div>\n",
              "<style scoped>\n",
              "    .dataframe tbody tr th:only-of-type {\n",
              "        vertical-align: middle;\n",
              "    }\n",
              "\n",
              "    .dataframe tbody tr th {\n",
              "        vertical-align: top;\n",
              "    }\n",
              "\n",
              "    .dataframe thead th {\n",
              "        text-align: right;\n",
              "    }\n",
              "</style>\n",
              "<table border=\"1\" class=\"dataframe\">\n",
              "  <thead>\n",
              "    <tr style=\"text-align: right;\">\n",
              "      <th></th>\n",
              "      <th>status</th>\n",
              "      <th>card_present_flag</th>\n",
              "      <th>bpay_biller_code</th>\n",
              "      <th>account</th>\n",
              "      <th>currency</th>\n",
              "      <th>long_lat</th>\n",
              "      <th>txn_description</th>\n",
              "      <th>merchant_id</th>\n",
              "      <th>merchant_code</th>\n",
              "      <th>first_name</th>\n",
              "      <th>balance</th>\n",
              "      <th>date</th>\n",
              "      <th>gender</th>\n",
              "      <th>age</th>\n",
              "      <th>merchant_suburb</th>\n",
              "      <th>merchant_state</th>\n",
              "      <th>extraction</th>\n",
              "      <th>amount</th>\n",
              "      <th>transaction_id</th>\n",
              "      <th>country</th>\n",
              "      <th>customer_id</th>\n",
              "      <th>merchant_long_lat</th>\n",
              "      <th>movement</th>\n",
              "    </tr>\n",
              "  </thead>\n",
              "  <tbody>\n",
              "    <tr>\n",
              "      <th>938</th>\n",
              "      <td>posted</td>\n",
              "      <td>NaN</td>\n",
              "      <td>0</td>\n",
              "      <td>ACC-1650504218</td>\n",
              "      <td>AUD</td>\n",
              "      <td>145.01 -37.93</td>\n",
              "      <td>PAY/SALARY</td>\n",
              "      <td>NaN</td>\n",
              "      <td>0.0</td>\n",
              "      <td>Marissa</td>\n",
              "      <td>3287.56</td>\n",
              "      <td>2018-08-08</td>\n",
              "      <td>F</td>\n",
              "      <td>23</td>\n",
              "      <td>NaN</td>\n",
              "      <td>NaN</td>\n",
              "      <td>2018-08-08T12:00:00.000+0000</td>\n",
              "      <td>1626.48</td>\n",
              "      <td>3f88ba70530247e6a8489f627e7f7462</td>\n",
              "      <td>Australia</td>\n",
              "      <td>CUS-2500783281</td>\n",
              "      <td>NaN</td>\n",
              "      <td>credit</td>\n",
              "    </tr>\n",
              "    <tr>\n",
              "      <th>8845</th>\n",
              "      <td>authorized</td>\n",
              "      <td>1.0</td>\n",
              "      <td>NaN</td>\n",
              "      <td>ACC-3879258709</td>\n",
              "      <td>AUD</td>\n",
              "      <td>143.83 -37.66</td>\n",
              "      <td>SALES-POS</td>\n",
              "      <td>b0299acf-7955-4b74-b24b-05fe5c2f65f8</td>\n",
              "      <td>NaN</td>\n",
              "      <td>Natasha</td>\n",
              "      <td>202270.07</td>\n",
              "      <td>2018-10-07</td>\n",
              "      <td>F</td>\n",
              "      <td>40</td>\n",
              "      <td>Craigieburn</td>\n",
              "      <td>VIC</td>\n",
              "      <td>2018-10-07T12:31:41.000+0000</td>\n",
              "      <td>30.85</td>\n",
              "      <td>fbfb939ec36a42ae8690922841af999e</td>\n",
              "      <td>Australia</td>\n",
              "      <td>CUS-527400765</td>\n",
              "      <td>144.94 -37.6</td>\n",
              "      <td>debit</td>\n",
              "    </tr>\n",
              "    <tr>\n",
              "      <th>6877</th>\n",
              "      <td>authorized</td>\n",
              "      <td>0.0</td>\n",
              "      <td>NaN</td>\n",
              "      <td>ACC-2890243754</td>\n",
              "      <td>AUD</td>\n",
              "      <td>153.32 -27.93</td>\n",
              "      <td>POS</td>\n",
              "      <td>98be2e04-ead8-4457-9f0a-18a63ec28153</td>\n",
              "      <td>NaN</td>\n",
              "      <td>Joseph</td>\n",
              "      <td>4534.67</td>\n",
              "      <td>2018-09-22</td>\n",
              "      <td>M</td>\n",
              "      <td>37</td>\n",
              "      <td>Highgate Hill</td>\n",
              "      <td>QLD</td>\n",
              "      <td>2018-09-22T21:13:19.000+0000</td>\n",
              "      <td>9.75</td>\n",
              "      <td>0c6549ed5e14416ba28671004a5bad19</td>\n",
              "      <td>Australia</td>\n",
              "      <td>CUS-2695611575</td>\n",
              "      <td>153.02 -27.49</td>\n",
              "      <td>debit</td>\n",
              "    </tr>\n",
              "    <tr>\n",
              "      <th>6235</th>\n",
              "      <td>posted</td>\n",
              "      <td>NaN</td>\n",
              "      <td>0</td>\n",
              "      <td>ACC-37709441</td>\n",
              "      <td>AUD</td>\n",
              "      <td>153.41 -28.01</td>\n",
              "      <td>PAY/SALARY</td>\n",
              "      <td>NaN</td>\n",
              "      <td>0.0</td>\n",
              "      <td>Charles</td>\n",
              "      <td>14022.13</td>\n",
              "      <td>2018-09-18</td>\n",
              "      <td>M</td>\n",
              "      <td>18</td>\n",
              "      <td>NaN</td>\n",
              "      <td>NaN</td>\n",
              "      <td>2018-09-18T11:00:00.000+0000</td>\n",
              "      <td>4132.23</td>\n",
              "      <td>239a5365c2e14136a4f482ed70323356</td>\n",
              "      <td>Australia</td>\n",
              "      <td>CUS-3336454548</td>\n",
              "      <td>NaN</td>\n",
              "      <td>credit</td>\n",
              "    </tr>\n",
              "    <tr>\n",
              "      <th>10625</th>\n",
              "      <td>authorized</td>\n",
              "      <td>1.0</td>\n",
              "      <td>NaN</td>\n",
              "      <td>ACC-1903037542</td>\n",
              "      <td>AUD</td>\n",
              "      <td>153.05 -27.61</td>\n",
              "      <td>POS</td>\n",
              "      <td>4e77a162-b3b9-411e-b3c9-955b93fb9fda</td>\n",
              "      <td>NaN</td>\n",
              "      <td>Jeffrey</td>\n",
              "      <td>4059.94</td>\n",
              "      <td>2018-10-20</td>\n",
              "      <td>M</td>\n",
              "      <td>30</td>\n",
              "      <td>Victoria Point</td>\n",
              "      <td>QLD</td>\n",
              "      <td>2018-10-20T21:27:44.000+0000</td>\n",
              "      <td>8.69</td>\n",
              "      <td>80ed96393fe44c499b4b7f25f4b6f608</td>\n",
              "      <td>Australia</td>\n",
              "      <td>CUS-860700529</td>\n",
              "      <td>153.28 -27.59</td>\n",
              "      <td>debit</td>\n",
              "    </tr>\n",
              "  </tbody>\n",
              "</table>\n",
              "</div>"
            ],
            "text/plain": [
              "           status  card_present_flag  ... merchant_long_lat movement\n",
              "938        posted                NaN  ...               NaN   credit\n",
              "8845   authorized                1.0  ...      144.94 -37.6    debit\n",
              "6877   authorized                0.0  ...     153.02 -27.49    debit\n",
              "6235       posted                NaN  ...               NaN   credit\n",
              "10625  authorized                1.0  ...     153.28 -27.59    debit\n",
              "\n",
              "[5 rows x 23 columns]"
            ]
          },
          "metadata": {
            "tags": []
          },
          "execution_count": 3
        }
      ]
    },
    {
      "cell_type": "code",
      "metadata": {
        "id": "5GUIX8LIkdd3",
        "colab": {
          "base_uri": "https://localhost:8080/",
          "height": 206
        },
        "outputId": "b1ea682e-35f6-4301-a5fc-3afede177ac8"
      },
      "source": [
        "#relevant feature selection\r\n",
        "data_feature= data[['customer_id', 'age', 'txn_description','balance','gender', 'amount']]\r\n",
        "\r\n",
        "# one hot encoding for gender( 1= male, 0= female)\r\n",
        "customer_data = pd.get_dummies(data_feature, columns = ['gender'], drop_first = True)\r\n",
        "\r\n",
        "customer_data.head()"
      ],
      "execution_count": null,
      "outputs": [
        {
          "output_type": "execute_result",
          "data": {
            "text/html": [
              "<div>\n",
              "<style scoped>\n",
              "    .dataframe tbody tr th:only-of-type {\n",
              "        vertical-align: middle;\n",
              "    }\n",
              "\n",
              "    .dataframe tbody tr th {\n",
              "        vertical-align: top;\n",
              "    }\n",
              "\n",
              "    .dataframe thead th {\n",
              "        text-align: right;\n",
              "    }\n",
              "</style>\n",
              "<table border=\"1\" class=\"dataframe\">\n",
              "  <thead>\n",
              "    <tr style=\"text-align: right;\">\n",
              "      <th></th>\n",
              "      <th>customer_id</th>\n",
              "      <th>age</th>\n",
              "      <th>txn_description</th>\n",
              "      <th>balance</th>\n",
              "      <th>amount</th>\n",
              "      <th>gender_M</th>\n",
              "    </tr>\n",
              "  </thead>\n",
              "  <tbody>\n",
              "    <tr>\n",
              "      <th>0</th>\n",
              "      <td>CUS-2487424745</td>\n",
              "      <td>26</td>\n",
              "      <td>POS</td>\n",
              "      <td>35.39</td>\n",
              "      <td>16.25</td>\n",
              "      <td>0</td>\n",
              "    </tr>\n",
              "    <tr>\n",
              "      <th>1</th>\n",
              "      <td>CUS-2487424745</td>\n",
              "      <td>26</td>\n",
              "      <td>SALES-POS</td>\n",
              "      <td>21.20</td>\n",
              "      <td>14.19</td>\n",
              "      <td>0</td>\n",
              "    </tr>\n",
              "    <tr>\n",
              "      <th>2</th>\n",
              "      <td>CUS-2142601169</td>\n",
              "      <td>38</td>\n",
              "      <td>POS</td>\n",
              "      <td>5.71</td>\n",
              "      <td>6.42</td>\n",
              "      <td>1</td>\n",
              "    </tr>\n",
              "    <tr>\n",
              "      <th>3</th>\n",
              "      <td>CUS-1614226872</td>\n",
              "      <td>40</td>\n",
              "      <td>SALES-POS</td>\n",
              "      <td>2117.22</td>\n",
              "      <td>40.90</td>\n",
              "      <td>0</td>\n",
              "    </tr>\n",
              "    <tr>\n",
              "      <th>4</th>\n",
              "      <td>CUS-2487424745</td>\n",
              "      <td>26</td>\n",
              "      <td>SALES-POS</td>\n",
              "      <td>17.95</td>\n",
              "      <td>3.25</td>\n",
              "      <td>0</td>\n",
              "    </tr>\n",
              "  </tbody>\n",
              "</table>\n",
              "</div>"
            ],
            "text/plain": [
              "      customer_id  age txn_description  balance  amount  gender_M\n",
              "0  CUS-2487424745   26             POS    35.39   16.25         0\n",
              "1  CUS-2487424745   26       SALES-POS    21.20   14.19         0\n",
              "2  CUS-2142601169   38             POS     5.71    6.42         1\n",
              "3  CUS-1614226872   40       SALES-POS  2117.22   40.90         0\n",
              "4  CUS-2487424745   26       SALES-POS    17.95    3.25         0"
            ]
          },
          "metadata": {
            "tags": []
          },
          "execution_count": 4
        }
      ]
    },
    {
      "cell_type": "code",
      "metadata": {
        "colab": {
          "base_uri": "https://localhost:8080/"
        },
        "id": "afnkYZpeEAR2",
        "outputId": "1bf28af0-859a-479b-b354-3b110cfc3f66"
      },
      "source": [
        "print(customer_data['txn_description'].value_counts())"
      ],
      "execution_count": null,
      "outputs": [
        {
          "output_type": "stream",
          "text": [
            "SALES-POS     3934\n",
            "POS           3783\n",
            "PAYMENT       2600\n",
            "PAY/SALARY     883\n",
            "INTER BANK     742\n",
            "PHONE BANK     101\n",
            "Name: txn_description, dtype: int64\n"
          ],
          "name": "stdout"
        }
      ]
    },
    {
      "cell_type": "code",
      "metadata": {
        "colab": {
          "base_uri": "https://localhost:8080/",
          "height": 424
        },
        "id": "p9HRQBoiEWGB",
        "outputId": "f544696f-d458-4d7e-87c4-fd156dd5fac8"
      },
      "source": [
        "data_1= customer_data.groupby('customer_id').mean().reset_index()\r\n",
        "data_1"
      ],
      "execution_count": null,
      "outputs": [
        {
          "output_type": "execute_result",
          "data": {
            "text/html": [
              "<div>\n",
              "<style scoped>\n",
              "    .dataframe tbody tr th:only-of-type {\n",
              "        vertical-align: middle;\n",
              "    }\n",
              "\n",
              "    .dataframe tbody tr th {\n",
              "        vertical-align: top;\n",
              "    }\n",
              "\n",
              "    .dataframe thead th {\n",
              "        text-align: right;\n",
              "    }\n",
              "</style>\n",
              "<table border=\"1\" class=\"dataframe\">\n",
              "  <thead>\n",
              "    <tr style=\"text-align: right;\">\n",
              "      <th></th>\n",
              "      <th>customer_id</th>\n",
              "      <th>age</th>\n",
              "      <th>balance</th>\n",
              "      <th>amount</th>\n",
              "      <th>gender_M</th>\n",
              "    </tr>\n",
              "  </thead>\n",
              "  <tbody>\n",
              "    <tr>\n",
              "      <th>0</th>\n",
              "      <td>CUS-1005756958</td>\n",
              "      <td>53</td>\n",
              "      <td>2275.852055</td>\n",
              "      <td>222.862603</td>\n",
              "      <td>0</td>\n",
              "    </tr>\n",
              "    <tr>\n",
              "      <th>1</th>\n",
              "      <td>CUS-1117979751</td>\n",
              "      <td>21</td>\n",
              "      <td>9829.929000</td>\n",
              "      <td>339.843700</td>\n",
              "      <td>1</td>\n",
              "    </tr>\n",
              "    <tr>\n",
              "      <th>2</th>\n",
              "      <td>CUS-1140341822</td>\n",
              "      <td>28</td>\n",
              "      <td>5699.212250</td>\n",
              "      <td>212.632500</td>\n",
              "      <td>1</td>\n",
              "    </tr>\n",
              "    <tr>\n",
              "      <th>3</th>\n",
              "      <td>CUS-1147642491</td>\n",
              "      <td>34</td>\n",
              "      <td>9032.841186</td>\n",
              "      <td>245.600169</td>\n",
              "      <td>0</td>\n",
              "    </tr>\n",
              "    <tr>\n",
              "      <th>4</th>\n",
              "      <td>CUS-1196156254</td>\n",
              "      <td>34</td>\n",
              "      <td>22272.433755</td>\n",
              "      <td>147.145796</td>\n",
              "      <td>0</td>\n",
              "    </tr>\n",
              "    <tr>\n",
              "      <th>...</th>\n",
              "      <td>...</td>\n",
              "      <td>...</td>\n",
              "      <td>...</td>\n",
              "      <td>...</td>\n",
              "      <td>...</td>\n",
              "    </tr>\n",
              "    <tr>\n",
              "      <th>95</th>\n",
              "      <td>CUS-72755508</td>\n",
              "      <td>35</td>\n",
              "      <td>4497.557069</td>\n",
              "      <td>197.213276</td>\n",
              "      <td>0</td>\n",
              "    </tr>\n",
              "    <tr>\n",
              "      <th>96</th>\n",
              "      <td>CUS-809013380</td>\n",
              "      <td>21</td>\n",
              "      <td>3756.902903</td>\n",
              "      <td>151.694274</td>\n",
              "      <td>0</td>\n",
              "    </tr>\n",
              "    <tr>\n",
              "      <th>97</th>\n",
              "      <td>CUS-860700529</td>\n",
              "      <td>30</td>\n",
              "      <td>3462.276009</td>\n",
              "      <td>77.681888</td>\n",
              "      <td>1</td>\n",
              "    </tr>\n",
              "    <tr>\n",
              "      <th>98</th>\n",
              "      <td>CUS-880898248</td>\n",
              "      <td>26</td>\n",
              "      <td>8528.830385</td>\n",
              "      <td>146.954487</td>\n",
              "      <td>1</td>\n",
              "    </tr>\n",
              "    <tr>\n",
              "      <th>99</th>\n",
              "      <td>CUS-883482547</td>\n",
              "      <td>19</td>\n",
              "      <td>9877.452697</td>\n",
              "      <td>205.839382</td>\n",
              "      <td>0</td>\n",
              "    </tr>\n",
              "  </tbody>\n",
              "</table>\n",
              "<p>100 rows × 5 columns</p>\n",
              "</div>"
            ],
            "text/plain": [
              "       customer_id  age       balance      amount  gender_M\n",
              "0   CUS-1005756958   53   2275.852055  222.862603         0\n",
              "1   CUS-1117979751   21   9829.929000  339.843700         1\n",
              "2   CUS-1140341822   28   5699.212250  212.632500         1\n",
              "3   CUS-1147642491   34   9032.841186  245.600169         0\n",
              "4   CUS-1196156254   34  22272.433755  147.145796         0\n",
              "..             ...  ...           ...         ...       ...\n",
              "95    CUS-72755508   35   4497.557069  197.213276         0\n",
              "96   CUS-809013380   21   3756.902903  151.694274         0\n",
              "97   CUS-860700529   30   3462.276009   77.681888         1\n",
              "98   CUS-880898248   26   8528.830385  146.954487         1\n",
              "99   CUS-883482547   19   9877.452697  205.839382         0\n",
              "\n",
              "[100 rows x 5 columns]"
            ]
          },
          "metadata": {
            "tags": []
          },
          "execution_count": 6
        }
      ]
    },
    {
      "cell_type": "code",
      "metadata": {
        "id": "-wu9gTT1E1N4"
      },
      "source": [
        "# The average salary of each customer\r\n",
        "data_salary = customer_data.loc[data_feature['txn_description'] == 'PAY/SALARY'].groupby('customer_id').agg({'amount': [('Average_salary','mean')]})\r\n",
        "data_salary.columns = data_salary.columns.droplevel()\r\n",
        "data_salary = data_salary.reset_index()\r\n",
        "\r\n"
      ],
      "execution_count": null,
      "outputs": []
    },
    {
      "cell_type": "code",
      "metadata": {
        "colab": {
          "base_uri": "https://localhost:8080/",
          "height": 424
        },
        "id": "8dmRIdwmIUJ-",
        "outputId": "76c4ec85-f3fc-457f-8dac-f68de4c73d5c"
      },
      "source": [
        "data_salary"
      ],
      "execution_count": null,
      "outputs": [
        {
          "output_type": "execute_result",
          "data": {
            "text/html": [
              "<div>\n",
              "<style scoped>\n",
              "    .dataframe tbody tr th:only-of-type {\n",
              "        vertical-align: middle;\n",
              "    }\n",
              "\n",
              "    .dataframe tbody tr th {\n",
              "        vertical-align: top;\n",
              "    }\n",
              "\n",
              "    .dataframe thead th {\n",
              "        text-align: right;\n",
              "    }\n",
              "</style>\n",
              "<table border=\"1\" class=\"dataframe\">\n",
              "  <thead>\n",
              "    <tr style=\"text-align: right;\">\n",
              "      <th></th>\n",
              "      <th>customer_id</th>\n",
              "      <th>Average_salary</th>\n",
              "    </tr>\n",
              "  </thead>\n",
              "  <tbody>\n",
              "    <tr>\n",
              "      <th>0</th>\n",
              "      <td>CUS-1005756958</td>\n",
              "      <td>970.47</td>\n",
              "    </tr>\n",
              "    <tr>\n",
              "      <th>1</th>\n",
              "      <td>CUS-1117979751</td>\n",
              "      <td>3578.65</td>\n",
              "    </tr>\n",
              "    <tr>\n",
              "      <th>2</th>\n",
              "      <td>CUS-1140341822</td>\n",
              "      <td>1916.51</td>\n",
              "    </tr>\n",
              "    <tr>\n",
              "      <th>3</th>\n",
              "      <td>CUS-1147642491</td>\n",
              "      <td>1711.39</td>\n",
              "    </tr>\n",
              "    <tr>\n",
              "      <th>4</th>\n",
              "      <td>CUS-1196156254</td>\n",
              "      <td>3903.73</td>\n",
              "    </tr>\n",
              "    <tr>\n",
              "      <th>...</th>\n",
              "      <td>...</td>\n",
              "      <td>...</td>\n",
              "    </tr>\n",
              "    <tr>\n",
              "      <th>95</th>\n",
              "      <td>CUS-72755508</td>\n",
              "      <td>725.32</td>\n",
              "    </tr>\n",
              "    <tr>\n",
              "      <th>96</th>\n",
              "      <td>CUS-809013380</td>\n",
              "      <td>1037.07</td>\n",
              "    </tr>\n",
              "    <tr>\n",
              "      <th>97</th>\n",
              "      <td>CUS-860700529</td>\n",
              "      <td>1808.62</td>\n",
              "    </tr>\n",
              "    <tr>\n",
              "      <th>98</th>\n",
              "      <td>CUS-880898248</td>\n",
              "      <td>1433.98</td>\n",
              "    </tr>\n",
              "    <tr>\n",
              "      <th>99</th>\n",
              "      <td>CUS-883482547</td>\n",
              "      <td>3977.46</td>\n",
              "    </tr>\n",
              "  </tbody>\n",
              "</table>\n",
              "<p>100 rows × 2 columns</p>\n",
              "</div>"
            ],
            "text/plain": [
              "       customer_id  Average_salary\n",
              "0   CUS-1005756958          970.47\n",
              "1   CUS-1117979751         3578.65\n",
              "2   CUS-1140341822         1916.51\n",
              "3   CUS-1147642491         1711.39\n",
              "4   CUS-1196156254         3903.73\n",
              "..             ...             ...\n",
              "95    CUS-72755508          725.32\n",
              "96   CUS-809013380         1037.07\n",
              "97   CUS-860700529         1808.62\n",
              "98   CUS-880898248         1433.98\n",
              "99   CUS-883482547         3977.46\n",
              "\n",
              "[100 rows x 2 columns]"
            ]
          },
          "metadata": {
            "tags": []
          },
          "execution_count": 8
        }
      ]
    },
    {
      "cell_type": "code",
      "metadata": {
        "colab": {
          "base_uri": "https://localhost:8080/",
          "height": 424
        },
        "id": "CCQj-BwsIaVt",
        "outputId": "7268ff1a-a5c6-44f1-db21-40a5f3a05df2"
      },
      "source": [
        "data_final= pd.merge(data_1, data_salary, on='customer_id')\r\n",
        "data_final"
      ],
      "execution_count": null,
      "outputs": [
        {
          "output_type": "execute_result",
          "data": {
            "text/html": [
              "<div>\n",
              "<style scoped>\n",
              "    .dataframe tbody tr th:only-of-type {\n",
              "        vertical-align: middle;\n",
              "    }\n",
              "\n",
              "    .dataframe tbody tr th {\n",
              "        vertical-align: top;\n",
              "    }\n",
              "\n",
              "    .dataframe thead th {\n",
              "        text-align: right;\n",
              "    }\n",
              "</style>\n",
              "<table border=\"1\" class=\"dataframe\">\n",
              "  <thead>\n",
              "    <tr style=\"text-align: right;\">\n",
              "      <th></th>\n",
              "      <th>customer_id</th>\n",
              "      <th>age</th>\n",
              "      <th>balance</th>\n",
              "      <th>amount</th>\n",
              "      <th>gender_M</th>\n",
              "      <th>Average_salary</th>\n",
              "    </tr>\n",
              "  </thead>\n",
              "  <tbody>\n",
              "    <tr>\n",
              "      <th>0</th>\n",
              "      <td>CUS-1005756958</td>\n",
              "      <td>53</td>\n",
              "      <td>2275.852055</td>\n",
              "      <td>222.862603</td>\n",
              "      <td>0</td>\n",
              "      <td>970.47</td>\n",
              "    </tr>\n",
              "    <tr>\n",
              "      <th>1</th>\n",
              "      <td>CUS-1117979751</td>\n",
              "      <td>21</td>\n",
              "      <td>9829.929000</td>\n",
              "      <td>339.843700</td>\n",
              "      <td>1</td>\n",
              "      <td>3578.65</td>\n",
              "    </tr>\n",
              "    <tr>\n",
              "      <th>2</th>\n",
              "      <td>CUS-1140341822</td>\n",
              "      <td>28</td>\n",
              "      <td>5699.212250</td>\n",
              "      <td>212.632500</td>\n",
              "      <td>1</td>\n",
              "      <td>1916.51</td>\n",
              "    </tr>\n",
              "    <tr>\n",
              "      <th>3</th>\n",
              "      <td>CUS-1147642491</td>\n",
              "      <td>34</td>\n",
              "      <td>9032.841186</td>\n",
              "      <td>245.600169</td>\n",
              "      <td>0</td>\n",
              "      <td>1711.39</td>\n",
              "    </tr>\n",
              "    <tr>\n",
              "      <th>4</th>\n",
              "      <td>CUS-1196156254</td>\n",
              "      <td>34</td>\n",
              "      <td>22272.433755</td>\n",
              "      <td>147.145796</td>\n",
              "      <td>0</td>\n",
              "      <td>3903.73</td>\n",
              "    </tr>\n",
              "    <tr>\n",
              "      <th>...</th>\n",
              "      <td>...</td>\n",
              "      <td>...</td>\n",
              "      <td>...</td>\n",
              "      <td>...</td>\n",
              "      <td>...</td>\n",
              "      <td>...</td>\n",
              "    </tr>\n",
              "    <tr>\n",
              "      <th>95</th>\n",
              "      <td>CUS-72755508</td>\n",
              "      <td>35</td>\n",
              "      <td>4497.557069</td>\n",
              "      <td>197.213276</td>\n",
              "      <td>0</td>\n",
              "      <td>725.32</td>\n",
              "    </tr>\n",
              "    <tr>\n",
              "      <th>96</th>\n",
              "      <td>CUS-809013380</td>\n",
              "      <td>21</td>\n",
              "      <td>3756.902903</td>\n",
              "      <td>151.694274</td>\n",
              "      <td>0</td>\n",
              "      <td>1037.07</td>\n",
              "    </tr>\n",
              "    <tr>\n",
              "      <th>97</th>\n",
              "      <td>CUS-860700529</td>\n",
              "      <td>30</td>\n",
              "      <td>3462.276009</td>\n",
              "      <td>77.681888</td>\n",
              "      <td>1</td>\n",
              "      <td>1808.62</td>\n",
              "    </tr>\n",
              "    <tr>\n",
              "      <th>98</th>\n",
              "      <td>CUS-880898248</td>\n",
              "      <td>26</td>\n",
              "      <td>8528.830385</td>\n",
              "      <td>146.954487</td>\n",
              "      <td>1</td>\n",
              "      <td>1433.98</td>\n",
              "    </tr>\n",
              "    <tr>\n",
              "      <th>99</th>\n",
              "      <td>CUS-883482547</td>\n",
              "      <td>19</td>\n",
              "      <td>9877.452697</td>\n",
              "      <td>205.839382</td>\n",
              "      <td>0</td>\n",
              "      <td>3977.46</td>\n",
              "    </tr>\n",
              "  </tbody>\n",
              "</table>\n",
              "<p>100 rows × 6 columns</p>\n",
              "</div>"
            ],
            "text/plain": [
              "       customer_id  age       balance      amount  gender_M  Average_salary\n",
              "0   CUS-1005756958   53   2275.852055  222.862603         0          970.47\n",
              "1   CUS-1117979751   21   9829.929000  339.843700         1         3578.65\n",
              "2   CUS-1140341822   28   5699.212250  212.632500         1         1916.51\n",
              "3   CUS-1147642491   34   9032.841186  245.600169         0         1711.39\n",
              "4   CUS-1196156254   34  22272.433755  147.145796         0         3903.73\n",
              "..             ...  ...           ...         ...       ...             ...\n",
              "95    CUS-72755508   35   4497.557069  197.213276         0          725.32\n",
              "96   CUS-809013380   21   3756.902903  151.694274         0         1037.07\n",
              "97   CUS-860700529   30   3462.276009   77.681888         1         1808.62\n",
              "98   CUS-880898248   26   8528.830385  146.954487         1         1433.98\n",
              "99   CUS-883482547   19   9877.452697  205.839382         0         3977.46\n",
              "\n",
              "[100 rows x 6 columns]"
            ]
          },
          "metadata": {
            "tags": []
          },
          "execution_count": 9
        }
      ]
    },
    {
      "cell_type": "code",
      "metadata": {
        "colab": {
          "base_uri": "https://localhost:8080/",
          "height": 818
        },
        "id": "RThLW9HXI4ju",
        "outputId": "80c60ab3-9059-4831-8c22-1c915573ab88"
      },
      "source": [
        "sns.lmplot('balance','Average_salary', data=data_final, height= 10)"
      ],
      "execution_count": null,
      "outputs": [
        {
          "output_type": "stream",
          "text": [
            "/usr/local/lib/python3.6/dist-packages/seaborn/_decorators.py:43: FutureWarning: Pass the following variables as keyword args: x, y. From version 0.12, the only valid positional argument will be `data`, and passing other arguments without an explicit keyword will result in an error or misinterpretation.\n",
            "  FutureWarning\n"
          ],
          "name": "stderr"
        },
        {
          "output_type": "execute_result",
          "data": {
            "text/plain": [
              "<seaborn.axisgrid.FacetGrid at 0x7f7eae6b5828>"
            ]
          },
          "metadata": {
            "tags": []
          },
          "execution_count": 10
        },
        {
          "output_type": "display_data",
          "data": {
            "image/png": "[encoded data removed]",
            "text/plain": [
              "<Figure size 720x720 with 1 Axes>"
            ]
          },
          "metadata": {
            "tags": [],
            "needs_background": "light"
          }
        }
      ]
    },
    {
      "cell_type": "code",
      "metadata": {
        "colab": {
          "base_uri": "https://localhost:8080/",
          "height": 206
        },
        "id": "i3zhXH5uWR3l",
        "outputId": "ddcec3ce-37ac-4b15-82f1-1e54c4226840"
      },
      "source": [
        "data_final.corr()"
      ],
      "execution_count": null,
      "outputs": [
        {
          "output_type": "execute_result",
          "data": {
            "text/html": [
              "<div>\n",
              "<style scoped>\n",
              "    .dataframe tbody tr th:only-of-type {\n",
              "        vertical-align: middle;\n",
              "    }\n",
              "\n",
              "    .dataframe tbody tr th {\n",
              "        vertical-align: top;\n",
              "    }\n",
              "\n",
              "    .dataframe thead th {\n",
              "        text-align: right;\n",
              "    }\n",
              "</style>\n",
              "<table border=\"1\" class=\"dataframe\">\n",
              "  <thead>\n",
              "    <tr style=\"text-align: right;\">\n",
              "      <th></th>\n",
              "      <th>age</th>\n",
              "      <th>balance</th>\n",
              "      <th>amount</th>\n",
              "      <th>gender_M</th>\n",
              "      <th>Average_salary</th>\n",
              "    </tr>\n",
              "  </thead>\n",
              "  <tbody>\n",
              "    <tr>\n",
              "      <th>age</th>\n",
              "      <td>1.000000</td>\n",
              "      <td>0.231963</td>\n",
              "      <td>0.175525</td>\n",
              "      <td>0.012067</td>\n",
              "      <td>-0.135264</td>\n",
              "    </tr>\n",
              "    <tr>\n",
              "      <th>balance</th>\n",
              "      <td>0.231963</td>\n",
              "      <td>1.000000</td>\n",
              "      <td>0.272791</td>\n",
              "      <td>0.134158</td>\n",
              "      <td>0.205646</td>\n",
              "    </tr>\n",
              "    <tr>\n",
              "      <th>amount</th>\n",
              "      <td>0.175525</td>\n",
              "      <td>0.272791</td>\n",
              "      <td>1.000000</td>\n",
              "      <td>0.151430</td>\n",
              "      <td>0.289481</td>\n",
              "    </tr>\n",
              "    <tr>\n",
              "      <th>gender_M</th>\n",
              "      <td>0.012067</td>\n",
              "      <td>0.134158</td>\n",
              "      <td>0.151430</td>\n",
              "      <td>1.000000</td>\n",
              "      <td>0.154113</td>\n",
              "    </tr>\n",
              "    <tr>\n",
              "      <th>Average_salary</th>\n",
              "      <td>-0.135264</td>\n",
              "      <td>0.205646</td>\n",
              "      <td>0.289481</td>\n",
              "      <td>0.154113</td>\n",
              "      <td>1.000000</td>\n",
              "    </tr>\n",
              "  </tbody>\n",
              "</table>\n",
              "</div>"
            ],
            "text/plain": [
              "                     age   balance    amount  gender_M  Average_salary\n",
              "age             1.000000  0.231963  0.175525  0.012067       -0.135264\n",
              "balance         0.231963  1.000000  0.272791  0.134158        0.205646\n",
              "amount          0.175525  0.272791  1.000000  0.151430        0.289481\n",
              "gender_M        0.012067  0.134158  0.151430  1.000000        0.154113\n",
              "Average_salary -0.135264  0.205646  0.289481  0.154113        1.000000"
            ]
          },
          "metadata": {
            "tags": []
          },
          "execution_count": 11
        }
      ]
    },
    {
      "cell_type": "code",
      "metadata": {
        "id": "w2VYMMznZFQ4"
      },
      "source": [
        "train,test= train_test_split(data_final, test_size= 0.2)\r\n",
        "X= train[['age', 'balance' ,\t'amount', \t'gender_M']] \t\r\n",
        "y= train['Average_salary']\r\n",
        "X_test= test[['age', 'balance' ,\t'amount', \t'gender_M']] \r\n",
        "y_test= test['Average_salary'] "
      ],
      "execution_count": null,
      "outputs": []
    },
    {
      "cell_type": "markdown",
      "metadata": {
        "id": "yjlFCfabV7NW"
      },
      "source": [
        "## **Linear Regression**"
      ]
    },
    {
      "cell_type": "code",
      "metadata": {
        "id": "sp1zWCXOcD9c",
        "colab": {
          "base_uri": "https://localhost:8080/"
        },
        "outputId": "55050372-7f43-4309-f4cd-96a15805c806"
      },
      "source": [
        "lm= LinearRegression()\r\n",
        "\r\n",
        "lm.fit(X,y)\r\n",
        "\r\n",
        "lm.score(X,y)"
      ],
      "execution_count": null,
      "outputs": [
        {
          "output_type": "execute_result",
          "data": {
            "text/plain": [
              "0.1728754770493245"
            ]
          },
          "metadata": {
            "tags": []
          },
          "execution_count": 13
        }
      ]
    },
    {
      "cell_type": "code",
      "metadata": {
        "colab": {
          "base_uri": "https://localhost:8080/"
        },
        "id": "teGy3Njtb4I8",
        "outputId": "60e31f44-e340-49cf-9bcb-f8311e5e1126"
      },
      "source": [
        "y_predict= lm.predict(X_test)\r\n",
        "\r\n",
        "print(np.sqrt(metrics.mean_squared_error(y_test, y_predict)))"
      ],
      "execution_count": null,
      "outputs": [
        {
          "output_type": "stream",
          "text": [
            "1803.947235971429\n"
          ],
          "name": "stdout"
        }
      ]
    },
    {
      "cell_type": "code",
      "metadata": {
        "colab": {
          "base_uri": "https://localhost:8080/",
          "height": 295
        },
        "id": "PB-O0H3ud4Xw",
        "outputId": "16cfd339-242c-4061-e8e4-7eb729419dcf"
      },
      "source": [
        "fig, ax = plt.subplots()\r\n",
        "ax.scatter(y_test, y_predict)\r\n",
        "ax.plot([y_test.min(), y_test.max()], [y_test.min(), y_test.max()], 'k--', lw=4)\r\n",
        "ax.set_xlabel('Actual')\r\n",
        "ax.set_ylabel('Predicted')\r\n",
        "ax.set_title(\"Annual Salary vs Predicted\")\r\n",
        "plt.show()"
      ],
      "execution_count": null,
      "outputs": [
        {
          "output_type": "display_data",
          "data": {
            "image/png": "[encoded data removed]",
            "text/plain": [
              "<Figure size 432x288 with 1 Axes>"
            ]
          },
          "metadata": {
            "tags": [],
            "needs_background": "light"
          }
        }
      ]
    },
    {
      "cell_type": "markdown",
      "metadata": {
        "id": "wGTUiL_hTuar"
      },
      "source": [
        "Clearly, the predicted salaries are not in line with the regression line. The prediction is not accurate as majority of the data points are missing and dataset is very less (100 unique customers)"
      ]
    },
    {
      "cell_type": "code",
      "metadata": {
        "colab": {
          "base_uri": "https://localhost:8080/",
          "height": 677
        },
        "id": "XgNS4dfKSrqJ",
        "outputId": "450eac0d-8cf5-48a3-e0c5-260c037094e8"
      },
      "source": [
        "predict= pd.DataFrame(y_predict)\r\n",
        "predict"
      ],
      "execution_count": null,
      "outputs": [
        {
          "output_type": "execute_result",
          "data": {
            "text/html": [
              "<div>\n",
              "<style scoped>\n",
              "    .dataframe tbody tr th:only-of-type {\n",
              "        vertical-align: middle;\n",
              "    }\n",
              "\n",
              "    .dataframe tbody tr th {\n",
              "        vertical-align: top;\n",
              "    }\n",
              "\n",
              "    .dataframe thead th {\n",
              "        text-align: right;\n",
              "    }\n",
              "</style>\n",
              "<table border=\"1\" class=\"dataframe\">\n",
              "  <thead>\n",
              "    <tr style=\"text-align: right;\">\n",
              "      <th></th>\n",
              "      <th>0</th>\n",
              "    </tr>\n",
              "  </thead>\n",
              "  <tbody>\n",
              "    <tr>\n",
              "      <th>0</th>\n",
              "      <td>2808.303837</td>\n",
              "    </tr>\n",
              "    <tr>\n",
              "      <th>1</th>\n",
              "      <td>3840.634619</td>\n",
              "    </tr>\n",
              "    <tr>\n",
              "      <th>2</th>\n",
              "      <td>4607.771996</td>\n",
              "    </tr>\n",
              "    <tr>\n",
              "      <th>3</th>\n",
              "      <td>1957.429317</td>\n",
              "    </tr>\n",
              "    <tr>\n",
              "      <th>4</th>\n",
              "      <td>2255.120407</td>\n",
              "    </tr>\n",
              "    <tr>\n",
              "      <th>5</th>\n",
              "      <td>3290.065562</td>\n",
              "    </tr>\n",
              "    <tr>\n",
              "      <th>6</th>\n",
              "      <td>2365.809919</td>\n",
              "    </tr>\n",
              "    <tr>\n",
              "      <th>7</th>\n",
              "      <td>2309.709289</td>\n",
              "    </tr>\n",
              "    <tr>\n",
              "      <th>8</th>\n",
              "      <td>2304.782188</td>\n",
              "    </tr>\n",
              "    <tr>\n",
              "      <th>9</th>\n",
              "      <td>2114.478279</td>\n",
              "    </tr>\n",
              "    <tr>\n",
              "      <th>10</th>\n",
              "      <td>3357.186573</td>\n",
              "    </tr>\n",
              "    <tr>\n",
              "      <th>11</th>\n",
              "      <td>1982.292670</td>\n",
              "    </tr>\n",
              "    <tr>\n",
              "      <th>12</th>\n",
              "      <td>2207.308240</td>\n",
              "    </tr>\n",
              "    <tr>\n",
              "      <th>13</th>\n",
              "      <td>2000.291079</td>\n",
              "    </tr>\n",
              "    <tr>\n",
              "      <th>14</th>\n",
              "      <td>2643.994568</td>\n",
              "    </tr>\n",
              "    <tr>\n",
              "      <th>15</th>\n",
              "      <td>1941.723280</td>\n",
              "    </tr>\n",
              "    <tr>\n",
              "      <th>16</th>\n",
              "      <td>3286.236340</td>\n",
              "    </tr>\n",
              "    <tr>\n",
              "      <th>17</th>\n",
              "      <td>2585.811523</td>\n",
              "    </tr>\n",
              "    <tr>\n",
              "      <th>18</th>\n",
              "      <td>2474.402764</td>\n",
              "    </tr>\n",
              "    <tr>\n",
              "      <th>19</th>\n",
              "      <td>2186.531604</td>\n",
              "    </tr>\n",
              "  </tbody>\n",
              "</table>\n",
              "</div>"
            ],
            "text/plain": [
              "              0\n",
              "0   2808.303837\n",
              "1   3840.634619\n",
              "2   4607.771996\n",
              "3   1957.429317\n",
              "4   2255.120407\n",
              "5   3290.065562\n",
              "6   2365.809919\n",
              "7   2309.709289\n",
              "8   2304.782188\n",
              "9   2114.478279\n",
              "10  3357.186573\n",
              "11  1982.292670\n",
              "12  2207.308240\n",
              "13  2000.291079\n",
              "14  2643.994568\n",
              "15  1941.723280\n",
              "16  3286.236340\n",
              "17  2585.811523\n",
              "18  2474.402764\n",
              "19  2186.531604"
            ]
          },
          "metadata": {
            "tags": []
          },
          "execution_count": 39
        }
      ]
    }
  ]
}